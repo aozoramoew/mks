{
 "cells": [
  {
   "cell_type": "markdown",
   "metadata": {},
   "source": [
    "# Bài 46"
   ]
  },
  {
   "cell_type": "markdown",
   "metadata": {
    "id": "WQVkde7TMrEl"
   },
   "source": [
    "Cài đặt thư viện"
   ]
  },
  {
   "cell_type": "code",
   "execution_count": 3,
   "metadata": {
    "ExecuteTime": {
     "start_time": "2025-10-11T17:40:51.223231Z"
    },
    "colab": {
     "base_uri": "https://localhost:8080/"
    },
    "id": "QpBgQNB1L-Ym",
    "jupyter": {
     "is_executing": true
    },
    "outputId": "c63e9be8-27f4-4d10-8702-8e2d7f2cb3a4"
   },
   "outputs": [
    {
     "name": "stdout",
     "output_type": "stream",
     "text": [
      "Requirement already satisfied: opencv-contrib-python in c:\\users\\acer\\venv_day11\\lib\\site-packages (4.12.0.88)\n",
      "Requirement already satisfied: numpy<2.0 in c:\\users\\acer\\venv_day11\\lib\\site-packages (from opencv-contrib-python) (1.21.6)\n",
      "Note: you may need to restart the kernel to use updated packages.\n"
     ]
    }
   ],
   "source": [
    "pip install opencv-contrib-python"
   ]
  },
  {
   "cell_type": "markdown",
   "metadata": {
    "id": "ZMgsHYNgMyRJ"
   },
   "source": [
    "Mở camera trên máy"
   ]
  },
  {
   "cell_type": "code",
   "execution_count": 4,
   "metadata": {
    "id": "8cg2icgKMJuh"
   },
   "outputs": [],
   "source": [
    "import cv2\n",
    "cam = cv2.VideoCapture(0)\n",
    "while (cam.isOpened()):\n",
    "  ret, frame = cam.read()\n",
    "  cv2.imshow('frame', frame)\n",
    "  if cv2.waitKey(1) & 0xFF == ord('q'):\n",
    "    break\n",
    "cam.release()\n",
    "cv2.destroyAllWindows()"
   ]
  },
  {
   "cell_type": "markdown",
   "metadata": {
    "id": "cwC85ofzNJ8m"
   },
   "source": [
    "Mở file mp4"
   ]
  },
  {
   "cell_type": "code",
   "execution_count": 5,
   "metadata": {
    "id": "7gm0v4GHM9vi"
   },
   "outputs": [],
   "source": [
    "import cv2\n",
    "cam = cv2.VideoCapture(\"C:/Users/acer/Videos/Captures/Zoom Meeting 2025-04-05 20-01-56.mp4\")\n",
    "while (cam.isOpened()):\n",
    "  ret, frame = cam.read()\n",
    "  cv2.imshow('frame', frame)\n",
    "  if cv2.waitKey(1) & 0xFF == ord('q'):\n",
    "    break\n",
    "cam.release()\n",
    "cv2.destroyAllWindows()"
   ]
  },
  {
   "cell_type": "markdown",
   "metadata": {
    "id": "lP9TgquhNRHT"
   },
   "source": [
    "Quay video từ camera và lưu vào file"
   ]
  },
  {
   "cell_type": "code",
   "execution_count": 6,
   "metadata": {
    "colab": {
     "base_uri": "https://localhost:8080/",
     "height": 211
    },
    "id": "01HE7h_fNYo2",
    "outputId": "9eca1732-a02f-4795-9f09-cd82e3c9fba6"
   },
   "outputs": [],
   "source": [
    "import cv2\n",
    "cam = cv2.VideoCapture(0)\n",
    "ret, frame = cam.read()\n",
    "\n",
    "h, w = frame.shape[:2]\n",
    "fourcc = cv2.VideoWriter_fourcc(*'DIVX')\n",
    "video_write = cv2.VideoWriter(\"C:/Users/acer/Videos/Captures\", fourcc, 25.0, (w, h) )\n",
    "while (cam.isOpened()):\n",
    "  ret, frame = cam.read()\n",
    "  video_write.write(frame)\n",
    "  cv2.imshow('video', frame)\n",
    "  if cv2.waitKey(1) & 0xFF == ord('q'):\n",
    "    break\n",
    "cam.release()\n",
    "video_write.release()\n",
    "cv2.destroyAllWindows()"
   ]
  },
  {
   "cell_type": "code",
   "execution_count": 7,
   "metadata": {
    "ExecuteTime": {
     "end_time": "2025-10-11T18:20:07.897511Z",
     "start_time": "2025-10-11T18:20:07.096845Z"
    }
   },
   "outputs": [
    {
     "name": "stdout",
     "output_type": "stream",
     "text": [
      "LỖI: Không thể đọc file ảnh 'C:/cv/faces/NHAT/WIN_20241028_15_11_48_Pro.jpg'.\n",
      "Vui lòng kiểm tra lại tên file và đường dẫn.\n"
     ]
    }
   ],
   "source": [
    "\n",
    "import cv2\n",
    "import numpy as np\n",
    "import matplotlib.pyplot as plt\n",
    "\n",
    "file_anh = \"C:/cv/faces/NHAT/WIN_20241028_15_11_48_Pro.jpg\"\n",
    "\n",
    "try:\n",
    "    img_bgr = cv2.imread(file_anh)\n",
    "\n",
    "    # Kiểm tra xem ảnh có được đọc thành công không\n",
    "    if img_bgr is None:\n",
    "        print(f\"LỖI: Không thể đọc file ảnh '{file_anh}'.\")\n",
    "        print(\"Vui lòng kiểm tra lại tên file và đường dẫn.\")\n",
    "    else:\n",
    "        print(f\"Đã đọc file ảnh '{file_anh}' thành công.\")\n",
    "        print(f\"Kích thước ảnh (BGR): {img_bgr.shape}\")\n",
    "\n",
    "        # 2. Chuyển đổi không gian màu từ BGR sang RGB\n",
    "        # Hằng số cv2.COLOR_BGR2RGB thực hiện việc hoán chuyển thứ tự màu (BGR -> RGB)\n",
    "        img_rgb = cv2.cvtColor(img_bgr, cv2.COLOR_BGR2RGB)\n",
    "\n",
    "        print(f\"Kích thước ảnh (RGB): {img_rgb.shape}\")\n",
    "\n",
    "        # 3. Hiển thị ảnh (Sử dụng matplotlib để hiển thị ảnh RGB dễ dàng)\n",
    "        plt.imshow(img_rgb)\n",
    "        plt.title('Ảnh sau khi chuyển đổi sang RGB')\n",
    "        plt.axis('off') # Tắt trục tọa độ\n",
    "        plt.show()\n",
    "\n",
    "        #Xem mảng NumPy, có thể in ra một phần:\n",
    "        print(\"\\nDữ liệu pixel (BGR, góc trên bên trái):\")\n",
    "        print(img_bgr[0:1, 0:5])\n",
    "        print(\"\\nDữ liệu pixel (RGB, góc trên bên trái):\")\n",
    "        print(img_rgb[0:1, 0:5])\n",
    "\n",
    "except Exception as e:\n",
    "    print(f\"Đã xảy ra lỗi: {e}\")"
   ]
  },
  {
   "cell_type": "code",
   "execution_count": 8,
   "metadata": {
    "ExecuteTime": {
     "end_time": "2025-10-11T18:21:16.425278Z",
     "start_time": "2025-10-11T18:21:15.425842Z"
    }
   },
   "outputs": [
    {
     "name": "stdout",
     "output_type": "stream",
     "text": [
      "LỖI: Không thể đọc file ảnh 'C:/cv/faces/NHAT/WIN_20241028_15_11_48_Pro.jpg'.\n",
      "Vui lòng kiểm tra lại: 1) Tên file/Đường dẫn có chính xác không?\n",
      "                       2) File có thực sự tồn tại trên máy (không phải chỉ ở Cloud) không?\n",
      "                       3) File có phải là định dạng ảnh hợp lệ không?\n"
     ]
    }
   ],
   "source": [
    "\n",
    "import cv2\n",
    "import numpy as np\n",
    "import matplotlib.pyplot as plt\n",
    "\n",
    "file_anh = \"C:/cv/faces/NHAT/WIN_20241028_15_11_48_Pro.jpg\"\n",
    "\n",
    "try:\n",
    "    # 1. Đọc ảnh từ file\n",
    "    img_bgr = cv2.imread(file_anh)\n",
    "\n",
    "    # ------------------------------------------------------------------\n",
    "    # XỬ LÝ LỖI ĐỌC FILE (img_bgr is None)\n",
    "    # ------------------------------------------------------------------\n",
    "    if img_bgr is None:\n",
    "        print(f\"LỖI: Không thể đọc file ảnh '{file_anh}'.\")\n",
    "        print(\"Vui lòng kiểm tra lại: 1) Tên file/Đường dẫn có chính xác không?\")\n",
    "        print(\"                       2) File có thực sự tồn tại trên máy (không phải chỉ ở Cloud) không?\")\n",
    "        print(\"                       3) File có phải là định dạng ảnh hợp lệ không?\")\n",
    "    else:\n",
    "        print(\"--------------------------------------------------\")\n",
    "        print(f\"✅ Đã đọc file ảnh '{file_anh}' thành công.\")\n",
    "        print(f\"Kích thước ảnh gốc (BGR): {img_bgr.shape}\") # (chiều cao, chiều rộng, kênh màu)\n",
    "\n",
    "        # 2. Chuyển đổi không gian màu từ BGR sang RGB\n",
    "        # Đây là bước cần thiết để Matplotlib hiển thị màu sắc chính xác\n",
    "        img_rgb = cv2.cvtColor(img_bgr, cv2.COLOR_BGR2RGB)\n",
    "\n",
    "        print(f\"Kích thước ảnh sau chuyển đổi (RGB): {img_rgb.shape}\")\n",
    "        print(\"--------------------------------------------------\")\n",
    "        \n",
    "        # 3. Hiển thị ảnh\n",
    "        plt.figure(figsize=(10, 8)) # Tùy chọn: Đặt kích thước hiển thị\n",
    "        plt.imshow(img_rgb)\n",
    "        plt.title('Ảnh sau khi chuyển đổi BGR sang RGB')\n",
    "        plt.axis('off') # Tắt trục tọa độ để ảnh được gọn hơn\n",
    "        plt.show()\n",
    "        \n",
    "        # 4. In dữ liệu pixel mẫu để kiểm tra\n",
    "        print(\"Dữ liệu pixel mẫu (5 pixel đầu tiên ở góc trên bên trái):\")\n",
    "        \n",
    "        # BGR (Thứ tự: Blue, Green, Red)\n",
    "        print(\"\\nBGR (OpenCV format):\")\n",
    "        print(img_bgr[0, 0:5]) \n",
    "        \n",
    "        # RGB (Thứ tự: Red, Green, Blue)\n",
    "        print(\"\\nRGB (Hiển thị format):\")\n",
    "        print(img_rgb[0, 0:5])\n",
    "\n",
    "except Exception as e:\n",
    "    print(f\"❌ Đã xảy ra lỗi không xác định (Exception): {e}\")"
   ]
  },
  {
   "cell_type": "markdown",
   "metadata": {},
   "source": [
    "# Bài 47"
   ]
  },
  {
   "cell_type": "markdown",
   "metadata": {},
   "source": [
    "Phát hiện ra khuôn mặt (cơ bản)"
   ]
  },
  {
   "cell_type": "code",
   "execution_count": 9,
   "metadata": {
    "ExecuteTime": {
     "end_time": "2025-10-11T18:28:57.419348Z",
     "start_time": "2025-10-11T18:28:05.269226Z"
    }
   },
   "outputs": [],
   "source": [
    "import cv2\n",
    "\n",
    "face_cascade = cv2.CascadeClassifier(\"C:/cv/haarcascade_frontalface_default.xml\")\n",
    "eye_cascade = cv2.CascadeClassifier(\"C:/cv/haarcascade_eye.xml\")\n",
    "\n",
    "cam = cv2.VideoCapture(0)\n",
    "\n",
    "while not (cv2.waitKey(1) & 0xFF == ord('q')):\n",
    "    success, frame = cam.read()\n",
    "    if success:\n",
    "        gray = cv2.cvtColor(frame, cv2.COLOR_BGR2GRAY)\n",
    "        faces = face_cascade.detectMultiScale(gray, 1.3, 5, minSize=(120, 120))\n",
    "        for (x, y, w, h) in faces:\n",
    "            cv2.rectangle(frame, (x, y), (x+w, y+h), (255, 0, 0), 2)\n",
    "            roi_gray = gray[y:y+h, x:x+w]\n",
    "            eyes = eye_cascade.detectMultiScale(roi_gray, 1.1, 5, minSize=(40, 40))\n",
    "            for (ex, ey, ew, eh) in eyes:\n",
    "                cv2.rectangle(frame, (x+ex, y+ey), (x+ex+ew, y+ey+eh), (0, 255, 0), 2)\n",
    "                cv2.imshow('Face Detection', frame)\n",
    "\n",
    "cam.release()\n",
    "cv2.destroyAllWindows()"
   ]
  },
  {
   "cell_type": "markdown",
   "metadata": {},
   "source": [
    "Thu thập dữ liệu"
   ]
  },
  {
   "cell_type": "code",
   "execution_count": 10,
   "metadata": {},
   "outputs": [],
   "source": [
    "import cv2\n",
    "import os\n",
    "\n",
    "face_cascade = cv2.CascadeClassifier(\"C:/cv/haarcascade_frontalface_default.xml\")\n",
    "eye_cascade = cv2.CascadeClassifier(\"C:/cv/haarcascade_eye.xml\")\n",
    "\n",
    "output_folder = \"C:/cv/faces/NHAT\"\n",
    "if not os.path.exists(output_folder):\n",
    "    os.makedirs(output_folder)\n",
    "    \n",
    "cam = cv2.VideoCapture(0)\n",
    "count = 0 \n",
    "                                   \n",
    "while not (cv2.waitKey(1) & 0xFF == ord('q')):\n",
    "    success, frame = cam.read()\n",
    "    if success:\n",
    "        gray = cv2.cvtColor(frame, cv2.COLOR_BGR2GRAY)\n",
    "        faces = face_cascade.detectMultiScale(gray, 1.3, 5, minSize=(120, 120))\n",
    "        for (x, y, w, h) in faces:\n",
    "            cv2.rectangle(frame, (x, y), (x+w, y+h), (255, 0,), 2)\n",
    "            face_img = cv2.resize(gray[y:y+h, x:x+w], (200,200))\n",
    "            face_filename = '%s/%d.pgm' % (output_folder, count)\n",
    "            cv2.imwrite(face_filename, face_img)\n",
    "            count += 1\n",
    "\n",
    "        cv2.imshow('Face Detection', frame)\n",
    "\n",
    "cam.release()\n",
    "cv2.destroyAllWindows()"
   ]
  },
  {
   "cell_type": "markdown",
   "metadata": {},
   "source": [
    "Xem file output"
   ]
  },
  {
   "cell_type": "code",
   "execution_count": 11,
   "metadata": {},
   "outputs": [],
   "source": [
    "import cv2 \n",
    "img = cv2.imread('C:/cv/faces/NHAT/0.pgm', cv2.IMREAD_GRAYSCALE) \n",
    "cv2.imshow('image', img) \n",
    "cv2.waitKey(0) \n",
    "cv2.destroyAllWindows()"
   ]
  },
  {
   "cell_type": "markdown",
   "metadata": {},
   "source": [
    "Chuyển thông tin ảnh sang dạng matrix"
   ]
  },
  {
   "cell_type": "code",
   "execution_count": 12,
   "metadata": {},
   "outputs": [
    {
     "data": {
      "text/plain": [
       "array([[ 32,  32,  32, ...,  35,  37,  38],\n",
       "       [ 32,  32,  32, ...,  35,  37,  38],\n",
       "       [ 31,  31,  31, ...,  36,  37,  38],\n",
       "       ...,\n",
       "       [208, 205, 202, ..., 114, 118, 121],\n",
       "       [208, 205, 204, ..., 117, 120, 123],\n",
       "       [210, 207, 205, ..., 113, 118, 123]], dtype=uint8)"
      ]
     },
     "execution_count": 12,
     "metadata": {},
     "output_type": "execute_result"
    }
   ],
   "source": [
    "import cv2 \n",
    "import numpy as np \n",
    "\n",
    "img = cv2.imread('C:/cv/faces/NHAT/0.pgm', cv2.IMREAD_GRAYSCALE) \n",
    " \n",
    "data_img = np.asarray(img, np.uint8) \n",
    "data_img "
   ]
  },
  {
   "cell_type": "markdown",
   "metadata": {},
   "source": [
    "Đọc hai ảnh vào và tạo thành training-images"
   ]
  },
  {
   "cell_type": "code",
   "execution_count": 13,
   "metadata": {},
   "outputs": [
    {
     "data": {
      "text/plain": [
       "array([[[ 32,  32,  32, ...,  35,  37,  38],\n",
       "        [ 32,  32,  32, ...,  35,  37,  38],\n",
       "        [ 31,  31,  31, ...,  36,  37,  38],\n",
       "        ...,\n",
       "        [208, 205, 202, ..., 114, 118, 121],\n",
       "        [208, 205, 204, ..., 117, 120, 123],\n",
       "        [210, 207, 205, ..., 113, 118, 123]],\n",
       "\n",
       "       [[ 33,  34,  34, ...,  39,  38,  36],\n",
       "        [ 34,  32,  33, ...,  39,  39,  35],\n",
       "        [ 35,  33,  35, ...,  39,  36,  35],\n",
       "        ...,\n",
       "        [210, 208, 205, ..., 111, 113, 119],\n",
       "        [210, 210, 208, ..., 111, 112, 121],\n",
       "        [211, 212, 210, ..., 111, 113, 124]]], dtype=uint8)"
      ]
     },
     "execution_count": 13,
     "metadata": {},
     "output_type": "execute_result"
    }
   ],
   "source": [
    "import cv2 \n",
    "import numpy as np \n",
    " \n",
    "training_images = [] \n",
    " \n",
    "img = cv2.imread('C:/cv/faces/NHAT/0.pgm',  cv2.IMREAD_GRAYSCALE) \n",
    "training_images.append(img) \n",
    "img = cv2.imread('C:/cv/faces/NHAT/1.pgm', cv2.IMREAD_GRAYSCALE) \n",
    "training_images.append(img) \n",
    " \n",
    " \n",
    "training_images = np.asarray(training_images, np.uint8) \n",
    "training_images"
   ]
  },
  {
   "cell_type": "code",
   "execution_count": 14,
   "metadata": {},
   "outputs": [],
   "source": [
    "import cv2\n",
    "import numpy\n",
    "def read_images(path, image_size): \n",
    "    names = [] \n",
    "    training_images, training_labels = [], [] \n",
    "    label = 0 \n",
    " \n",
    "    for dirname, subdirnames, filenames in os.walk(path): \n",
    "        for subdirname in subdirnames: \n",
    "            names.append(subdirname) \n",
    "            subject_path = os.path.join(dirname, subdirname) \n",
    "            for filename in os.listdir(subject_path): \n",
    "                img = cv2.imread(os.path.join(subject_path, filename), cv2.IMREAD_GRAYSCALE) \n",
    "                if img is None: \n",
    "                    # The file cannot be loaded as an image. \n",
    "                    # Skip it. \n",
    "                    continue \n",
    "                img = cv2.resize(img, image_size) \n",
    "                training_images.append(img) \n",
    "                training_labels.append(label) \n",
    "            label += 1 \n",
    "    training_images = numpy.asarray(training_images, numpy.uint8) \n",
    "    training_labels = numpy.asarray(training_labels, numpy.int32) \n",
    "     \n",
    "    return names, training_images, training_labels "
   ]
  },
  {
   "cell_type": "code",
   "execution_count": 15,
   "metadata": {},
   "outputs": [],
   "source": [
    "import os \n",
    "import numpy \n",
    "training_image_size = (200, 200) \n",
    "names, training_images, training_labels = read_images('C:/cv/faces', training_image_size)"
   ]
  },
  {
   "cell_type": "code",
   "execution_count": 16,
   "metadata": {},
   "outputs": [
    {
     "name": "stdout",
     "output_type": "stream",
     "text": [
      "['NHAT']\n"
     ]
    }
   ],
   "source": [
    "print(names) "
   ]
  },
  {
   "cell_type": "code",
   "execution_count": 17,
   "metadata": {},
   "outputs": [
    {
     "name": "stdout",
     "output_type": "stream",
     "text": [
      "[[[ 32  32  32 ...  35  37  38]\n",
      "  [ 32  32  32 ...  35  37  38]\n",
      "  [ 31  31  31 ...  36  37  38]\n",
      "  ...\n",
      "  [208 205 202 ... 114 118 121]\n",
      "  [208 205 204 ... 117 120 123]\n",
      "  [210 207 205 ... 113 118 123]]\n",
      "\n",
      " [[ 33  34  34 ...  39  38  36]\n",
      "  [ 34  32  33 ...  39  39  35]\n",
      "  [ 35  33  35 ...  39  36  35]\n",
      "  ...\n",
      "  [210 208 205 ... 111 113 119]\n",
      "  [210 210 208 ... 111 112 121]\n",
      "  [211 212 210 ... 111 113 124]]\n",
      "\n",
      " [[ 35  36  36 ...  47  49  49]\n",
      "  [ 36  36  35 ...  48  48  49]\n",
      "  [ 35  36  34 ...  49  47  47]\n",
      "  ...\n",
      "  [190 203 205 ... 119 119 117]\n",
      "  [154 176 182 ... 118 119 119]\n",
      "  [140 141 144 ... 118 119 119]]\n",
      "\n",
      " ...\n",
      "\n",
      " [[ 47  48  49 ...  59  61  62]\n",
      "  [ 49  49  50 ...  61  63  63]\n",
      "  [ 52  52  51 ...  63  64  65]\n",
      "  ...\n",
      "  [251 251 251 ... 237 238 239]\n",
      "  [251 251 251 ... 240 239 241]\n",
      "  [251 251 251 ... 242 242 244]]\n",
      "\n",
      " [[ 47  48  49 ...  59  61  62]\n",
      "  [ 49  49  50 ...  61  63  63]\n",
      "  [ 52  52  51 ...  63  64  65]\n",
      "  ...\n",
      "  [251 251 251 ... 237 238 239]\n",
      "  [251 251 251 ... 240 239 241]\n",
      "  [251 251 251 ... 242 242 244]]\n",
      "\n",
      " [[ 51  49  48 ...  59  59  61]\n",
      "  [ 50  49  48 ...  61  60  62]\n",
      "  [ 50  49  49 ...  62  60  63]\n",
      "  ...\n",
      "  [251 251 250 ... 219 244 244]\n",
      "  [251 251 250 ... 240 248 243]\n",
      "  [251 251 251 ... 247 245 242]]]\n"
     ]
    }
   ],
   "source": [
    "print(training_images) "
   ]
  },
  {
   "cell_type": "code",
   "execution_count": 18,
   "metadata": {},
   "outputs": [
    {
     "name": "stdout",
     "output_type": "stream",
     "text": [
      "[0 0 0 0 0 0 0 0 0 0 0 0 0 0 0 0 0 0 0 0 0 0 0 0 0 0 0 0 0 0 0 0 0 0 0 0 0\n",
      " 0 0 0 0 0 0 0 0 0 0 0 0 0 0 0 0 0 0 0 0 0 0 0 0 0 0 0 0 0 0 0 0 0 0 0 0 0\n",
      " 0 0 0 0 0 0 0 0 0 0 0 0 0 0 0 0 0 0 0 0 0 0 0 0 0 0 0 0 0 0 0 0 0 0 0 0 0\n",
      " 0 0 0 0 0 0 0 0 0 0 0 0 0 0 0 0 0]\n"
     ]
    }
   ],
   "source": [
    "print(training_labels)"
   ]
  },
  {
   "cell_type": "markdown",
   "metadata": {},
   "source": [
    "Áp dụng thuật toán Eigenfaces"
   ]
  },
  {
   "cell_type": "code",
   "execution_count": 19,
   "metadata": {},
   "outputs": [],
   "source": [
    "model = cv2.face.EigenFaceRecognizer_create() "
   ]
  },
  {
   "cell_type": "code",
   "execution_count": 20,
   "metadata": {},
   "outputs": [],
   "source": [
    "model.train(training_images, training_labels)  "
   ]
  },
  {
   "cell_type": "code",
   "execution_count": 21,
   "metadata": {},
   "outputs": [],
   "source": [
    "face_cascade = cv2.CascadeClassifier(\"C:/cv/haarcascade_frontalface_default.xml\")"
   ]
  },
  {
   "cell_type": "code",
   "execution_count": 22,
   "metadata": {},
   "outputs": [],
   "source": [
    "roi_gray_resized = cv2.resize(roi_gray, (200, 200))\n",
    "label, confidence = model.predict(roi_gray_resized)"
   ]
  },
  {
   "cell_type": "code",
   "execution_count": null,
   "metadata": {},
   "outputs": [],
   "source": [
    "import cv2\n",
    "camera = cv2.VideoCapture(0)\n",
    "while True:\n",
    "    success, frame = camera.read()\n",
    "    if success:\n",
    "        faces = face_cascade.detectMultiScale(frame, 1.3, 5)\n",
    "        for (x, y, w, h) in faces:\n",
    "            cv2.rectangle(frame, (x, y), (x+w, y+h), (255, 0, 0), 2)\n",
    "            gray = cv2.cvtColor(frame, cv2.COLOR_BGR2GRAY)\n",
    "            roi_gray = gray[y:y+h, x:x+w]\n",
    "            if roi_gray.size == 0:\n",
    "                continue\n",
    "            roi_gray = cv2.resize(roi_gray, training_image_size)\n",
    "            label, confidence = model.predict(roi_gray)\n",
    "            text = '%s, confidence=%.2f' % (names[label], confidence)\n",
    "            cv2.putText(frame, text, (x, y - 20), cv2.FONT_HERSHEY_SIMPLEX, 1, (255, 0, 0), 2)\n",
    "        cv2.imshow('Face Recognition', frame)\n",
    "        if cv2.waitKey(1) & 0xFF == ord('q'):\n",
    "            break\n",
    "camera.release()\n",
    "cv2.destroyAllWindows()"
   ]
  },
  {
   "cell_type": "markdown",
   "metadata": {},
   "source": [
    "Áp dụng thuật toán Fisherfaces"
   ]
  },
  {
   "cell_type": "code",
   "execution_count": 42,
   "metadata": {},
   "outputs": [
    {
     "name": "stdout",
     "output_type": "stream",
     "text": [
      "['NHAT', 'NHAT - Copy']\n",
      "[[[ 32  32  32 ...  35  37  38]\n",
      "  [ 32  32  32 ...  35  37  38]\n",
      "  [ 31  31  31 ...  36  37  38]\n",
      "  ...\n",
      "  [208 205 202 ... 114 118 121]\n",
      "  [208 205 204 ... 117 120 123]\n",
      "  [210 207 205 ... 113 118 123]]\n",
      "\n",
      " [[ 33  34  34 ...  39  38  36]\n",
      "  [ 34  32  33 ...  39  39  35]\n",
      "  [ 35  33  35 ...  39  36  35]\n",
      "  ...\n",
      "  [210 208 205 ... 111 113 119]\n",
      "  [210 210 208 ... 111 112 121]\n",
      "  [211 212 210 ... 111 113 124]]\n",
      "\n",
      " [[ 35  36  36 ...  47  49  49]\n",
      "  [ 36  36  35 ...  48  48  49]\n",
      "  [ 35  36  34 ...  49  47  47]\n",
      "  ...\n",
      "  [190 203 205 ... 119 119 117]\n",
      "  [154 176 182 ... 118 119 119]\n",
      "  [140 141 144 ... 118 119 119]]\n",
      "\n",
      " ...\n",
      "\n",
      " [[ 47  48  49 ...  59  61  62]\n",
      "  [ 49  49  50 ...  61  63  63]\n",
      "  [ 52  52  51 ...  63  64  65]\n",
      "  ...\n",
      "  [251 251 251 ... 237 238 239]\n",
      "  [251 251 251 ... 240 239 241]\n",
      "  [251 251 251 ... 242 242 244]]\n",
      "\n",
      " [[ 47  48  49 ...  59  61  62]\n",
      "  [ 49  49  50 ...  61  63  63]\n",
      "  [ 52  52  51 ...  63  64  65]\n",
      "  ...\n",
      "  [251 251 251 ... 237 238 239]\n",
      "  [251 251 251 ... 240 239 241]\n",
      "  [251 251 251 ... 242 242 244]]\n",
      "\n",
      " [[ 51  49  48 ...  59  59  61]\n",
      "  [ 50  49  48 ...  61  60  62]\n",
      "  [ 50  49  49 ...  62  60  63]\n",
      "  ...\n",
      "  [251 251 250 ... 219 244 244]\n",
      "  [251 251 250 ... 240 248 243]\n",
      "  [251 251 251 ... 247 245 242]]]\n",
      "[0 0 0 0 0 0 0 0 0 0 0 0 0 0 0 0 0 0 0 0 0 0 0 0 0 0 0 0 0 0 0 0 0 0 0 0 0\n",
      " 0 0 0 0 0 0 0 0 0 0 0 0 0 0 0 0 0 0 0 0 0 0 0 0 0 0 0 0 0 0 0 0 0 0 0 0 0\n",
      " 0 0 0 0 0 0 0 0 0 0 0 0 0 0 0 0 0 0 0 0 0 0 0 0 0 0 0 0 0 0 0 0 0 0 0 0 0\n",
      " 0 0 0 0 0 0 0 0 0 0 0 0 0 0 0 0 0 1 1 1 1 1 1 1 1 1 1 1 1 1 1 1 1 1 1 1 1\n",
      " 1 1 1 1 1 1 1 1 1 1 1 1 1 1 1 1 1 1 1 1 1 1 1 1 1 1 1 1 1 1 1 1 1 1 1 1 1\n",
      " 1 1 1 1 1 1 1 1 1 1 1 1 1 1 1 1 1 1 1 1 1 1 1 1 1 1 1 1 1 1 1 1 1 1 1 1 1\n",
      " 1 1 1 1 1 1 1 1 1 1 1 1 1 1 1 1 1 1 1 1 1 1 1 1 1 1 1 1 1 1 1 1 1 1]\n"
     ]
    }
   ],
   "source": [
    "import cv2 \n",
    "def read_images(path, image_size): \n",
    "    names = [] \n",
    "    training_images, training_labels = [], [] \n",
    "    label = 0 \n",
    " \n",
    "    for dirname, subdirnames, filenames in os.walk(path): \n",
    "        for subdirname in subdirnames: \n",
    "            names.append(subdirname) \n",
    "            subject_path = os.path.join(dirname, subdirname) \n",
    "            for filename in os.listdir(subject_path): \n",
    "                img = cv2.imread(os.path.join(subject_path, filename), cv2.IMREAD_GRAYSCALE) \n",
    "                if img is None: \n",
    "                    # The file cannot be loaded as an image. \n",
    "                    # Skip it. \n",
    "                    continue \n",
    "                img = cv2.resize(img, image_size) \n",
    "                training_images.append(img) \n",
    "                training_labels.append(label) \n",
    "            label += 1 \n",
    "    training_images = numpy.asarray(training_images, numpy.uint8) \n",
    "    training_labels = numpy.asarray(training_labels, numpy.int32) \n",
    "     \n",
    "    return names, training_images, training_labels \n",
    " \n",
    " \n",
    "import os \n",
    "import numpy \n",
    "training_image_size = (200, 200) \n",
    "names, training_images, training_labels = read_images('C:/cv/faces', training_image_size) \n",
    " \n",
    "print(names) \n",
    "print(training_images) \n",
    "print(training_labels) \n",
    " \n",
    " \n",
    "model = cv2.face.FisherFaceRecognizer_create()  \n",
    "model.train(training_images, training_labels) \n",
    " \n",
    " \n",
    "face_cascade = cv2.CascadeClassifier(\"C:/cv/haarcascade_frontalface_default.xml\") \n",
    " \n",
    " \n",
    "camera = cv2.VideoCapture(0)\n",
    "while True:\n",
    "    success, frame = camera.read()\n",
    "    if success:\n",
    "        faces = face_cascade.detectMultiScale(frame, 1.3, 5)\n",
    "        for (x, y, w, h) in faces:\n",
    "            cv2.rectangle(frame, (x, y), (x+w, y+h), (255, 0, 0), 2)\n",
    "            gray = cv2.cvtColor(frame, cv2.COLOR_BGR2GRAY)\n",
    "            roi_gray = gray[y:y+h, x:x+w]\n",
    "            if roi_gray.size == 0:\n",
    "                continue\n",
    "            roi_gray = cv2.resize(roi_gray, training_image_size)\n",
    "            label, confidence = model.predict(roi_gray)\n",
    "            text = '%s, confidence=%.2f' % (names[label], confidence)\n",
    "            cv2.putText(frame, text, (x, y - 20), cv2.FONT_HERSHEY_SIMPLEX, 1, (255, 0, 0), 2)\n",
    "        cv2.imshow('Face Recognition', frame)\n",
    "        if cv2.waitKey(1) & 0xFF == ord('q'):\n",
    "            break\n",
    "camera.release()\n",
    "cv2.destroyAllWindows()"
   ]
  },
  {
   "cell_type": "markdown",
   "metadata": {},
   "source": [
    "# Bài 48"
   ]
  },
  {
   "cell_type": "code",
   "execution_count": 3,
   "metadata": {},
   "outputs": [
    {
     "name": "stdout",
     "output_type": "stream",
     "text": [
      "Step 5, Minibatch Loss = 1.4028, Training Accuracy = 0.550\n",
      "Step 10, Minibatch Loss = 0.5810, Training Accuracy = 0.820\n",
      "Step 15, Minibatch Loss = 0.6127, Training Accuracy = 0.790\n",
      "Step 20, Minibatch Loss = 0.7229, Training Accuracy = 0.740\n",
      "Step 25, Minibatch Loss = 0.3487, Training Accuracy = 0.890\n",
      "Step 30, Minibatch Loss = 0.3903, Training Accuracy = 0.890\n",
      "Step 35, Minibatch Loss = 0.3364, Training Accuracy = 0.870\n",
      "Step 40, Minibatch Loss = 0.3269, Training Accuracy = 0.920\n",
      "Step 45, Minibatch Loss = 0.2423, Training Accuracy = 0.930\n",
      "Step 50, Minibatch Loss = 0.4196, Training Accuracy = 0.880\n",
      "Step 55, Minibatch Loss = 0.1584, Training Accuracy = 0.970\n",
      "Step 60, Minibatch Loss = 0.1909, Training Accuracy = 0.940\n",
      "Step 65, Minibatch Loss = 0.2365, Training Accuracy = 0.930\n",
      "Step 70, Minibatch Loss = 0.2477, Training Accuracy = 0.930\n",
      "Step 75, Minibatch Loss = 0.2899, Training Accuracy = 0.920\n",
      "Step 80, Minibatch Loss = 0.3438, Training Accuracy = 0.870\n",
      "Step 85, Minibatch Loss = 0.2972, Training Accuracy = 0.940\n",
      "Step 90, Minibatch Loss = 0.0801, Training Accuracy = 0.970\n",
      "Step 95, Minibatch Loss = 0.2989, Training Accuracy = 0.910\n",
      "Step 100, Minibatch Loss = 0.2442, Training Accuracy = 0.930\n",
      "Step 105, Minibatch Loss = 0.2231, Training Accuracy = 0.940\n",
      "Step 110, Minibatch Loss = 0.2938, Training Accuracy = 0.910\n",
      "Step 115, Minibatch Loss = 0.1845, Training Accuracy = 0.930\n",
      "Step 120, Minibatch Loss = 0.2582, Training Accuracy = 0.910\n",
      "Step 125, Minibatch Loss = 0.3094, Training Accuracy = 0.920\n",
      "Step 130, Minibatch Loss = 0.1314, Training Accuracy = 0.960\n",
      "Step 135, Minibatch Loss = 0.2071, Training Accuracy = 0.950\n",
      "Step 140, Minibatch Loss = 0.1735, Training Accuracy = 0.940\n",
      "Step 145, Minibatch Loss = 0.1150, Training Accuracy = 0.960\n",
      "Step 150, Minibatch Loss = 0.1978, Training Accuracy = 0.920\n",
      "Step 155, Minibatch Loss = 0.1409, Training Accuracy = 0.970\n",
      "Step 160, Minibatch Loss = 0.4514, Training Accuracy = 0.900\n",
      "Step 165, Minibatch Loss = 0.1404, Training Accuracy = 0.950\n",
      "Step 170, Minibatch Loss = 0.1447, Training Accuracy = 0.960\n",
      "Step 175, Minibatch Loss = 0.2322, Training Accuracy = 0.950\n",
      "Step 180, Minibatch Loss = 0.2815, Training Accuracy = 0.900\n",
      "Step 185, Minibatch Loss = 0.0726, Training Accuracy = 0.980\n",
      "Step 190, Minibatch Loss = 0.1317, Training Accuracy = 0.970\n",
      "Step 195, Minibatch Loss = 0.4565, Training Accuracy = 0.880\n",
      "Step 200, Minibatch Loss = 0.2638, Training Accuracy = 0.920\n",
      "Step 205, Minibatch Loss = 0.3507, Training Accuracy = 0.930\n",
      "Step 210, Minibatch Loss = 0.1693, Training Accuracy = 0.950\n",
      "Step 215, Minibatch Loss = 0.2006, Training Accuracy = 0.950\n",
      "Step 220, Minibatch Loss = 0.1497, Training Accuracy = 0.950\n",
      "Step 225, Minibatch Loss = 0.1973, Training Accuracy = 0.940\n",
      "Step 230, Minibatch Loss = 0.1618, Training Accuracy = 0.910\n",
      "Step 235, Minibatch Loss = 0.2786, Training Accuracy = 0.940\n",
      "Step 240, Minibatch Loss = 0.1246, Training Accuracy = 0.950\n",
      "Step 245, Minibatch Loss = 0.1696, Training Accuracy = 0.970\n",
      "Step 250, Minibatch Loss = 0.2327, Training Accuracy = 0.910\n",
      "Step 255, Minibatch Loss = 0.3306, Training Accuracy = 0.880\n",
      "Step 260, Minibatch Loss = 0.1273, Training Accuracy = 0.970\n",
      "Step 265, Minibatch Loss = 0.2510, Training Accuracy = 0.950\n",
      "Step 270, Minibatch Loss = 0.2092, Training Accuracy = 0.930\n",
      "Step 275, Minibatch Loss = 0.2702, Training Accuracy = 0.930\n",
      "Step 280, Minibatch Loss = 0.2517, Training Accuracy = 0.940\n",
      "Step 285, Minibatch Loss = 0.1973, Training Accuracy = 0.940\n",
      "Step 290, Minibatch Loss = 0.1309, Training Accuracy = 0.980\n",
      "Step 295, Minibatch Loss = 0.2613, Training Accuracy = 0.910\n",
      "Step 300, Minibatch Loss = 0.1067, Training Accuracy = 0.970\n",
      "Step 305, Minibatch Loss = 0.2801, Training Accuracy = 0.940\n",
      "Step 310, Minibatch Loss = 0.1624, Training Accuracy = 0.950\n",
      "Step 315, Minibatch Loss = 0.1203, Training Accuracy = 0.960\n",
      "Step 320, Minibatch Loss = 0.1798, Training Accuracy = 0.940\n",
      "Step 325, Minibatch Loss = 0.0945, Training Accuracy = 0.970\n",
      "Step 330, Minibatch Loss = 0.2626, Training Accuracy = 0.930\n",
      "Step 335, Minibatch Loss = 0.2314, Training Accuracy = 0.960\n",
      "Step 340, Minibatch Loss = 0.2216, Training Accuracy = 0.920\n",
      "Step 345, Minibatch Loss = 0.1250, Training Accuracy = 0.960\n",
      "Step 350, Minibatch Loss = 0.0688, Training Accuracy = 0.980\n",
      "Step 355, Minibatch Loss = 0.2236, Training Accuracy = 0.930\n",
      "Step 360, Minibatch Loss = 0.4078, Training Accuracy = 0.920\n",
      "Step 365, Minibatch Loss = 0.3130, Training Accuracy = 0.890\n",
      "Step 370, Minibatch Loss = 0.1166, Training Accuracy = 0.930\n",
      "Step 375, Minibatch Loss = 0.1511, Training Accuracy = 0.950\n",
      "Step 380, Minibatch Loss = 0.0866, Training Accuracy = 0.980\n",
      "Step 385, Minibatch Loss = 0.3737, Training Accuracy = 0.950\n",
      "Step 390, Minibatch Loss = 0.1062, Training Accuracy = 0.940\n",
      "Step 395, Minibatch Loss = 0.0968, Training Accuracy = 0.960\n",
      "Step 400, Minibatch Loss = 0.1506, Training Accuracy = 0.940\n",
      "Step 405, Minibatch Loss = 0.0994, Training Accuracy = 0.960\n",
      "Step 410, Minibatch Loss = 0.2337, Training Accuracy = 0.930\n",
      "Step 415, Minibatch Loss = 0.1007, Training Accuracy = 0.970\n",
      "Step 420, Minibatch Loss = 0.2465, Training Accuracy = 0.920\n",
      "Step 425, Minibatch Loss = 0.2117, Training Accuracy = 0.960\n",
      "Step 430, Minibatch Loss = 0.2947, Training Accuracy = 0.910\n",
      "Step 435, Minibatch Loss = 0.1434, Training Accuracy = 0.960\n",
      "Step 440, Minibatch Loss = 0.1726, Training Accuracy = 0.930\n",
      "Step 445, Minibatch Loss = 0.1249, Training Accuracy = 0.970\n",
      "Step 450, Minibatch Loss = 0.2304, Training Accuracy = 0.940\n",
      "Step 455, Minibatch Loss = 0.2390, Training Accuracy = 0.940\n",
      "Step 460, Minibatch Loss = 0.2253, Training Accuracy = 0.910\n",
      "Step 465, Minibatch Loss = 0.2737, Training Accuracy = 0.920\n",
      "Step 470, Minibatch Loss = 0.1617, Training Accuracy = 0.950\n",
      "Step 475, Minibatch Loss = 0.1301, Training Accuracy = 0.950\n",
      "Step 480, Minibatch Loss = 0.1276, Training Accuracy = 0.940\n",
      "Step 485, Minibatch Loss = 0.0873, Training Accuracy = 0.970\n",
      "Step 490, Minibatch Loss = 0.1975, Training Accuracy = 0.930\n",
      "Step 495, Minibatch Loss = 0.1498, Training Accuracy = 0.950\n",
      "Step 500, Minibatch Loss = 0.0912, Training Accuracy = 0.950\n",
      "\n",
      "Optimization Finished!\n",
      "Final Testing Accuracy: 0.9574\n"
     ]
    },
    {
     "data": {
      "image/png": "[encoded data removed]",
      "text/plain": [
       "<Figure size 640x480 with 1 Axes>"
      ]
     },
     "metadata": {},
     "output_type": "display_data"
    },
    {
     "data": {
      "image/png": "[encoded data removed]",
      "text/plain": [
       "<Figure size 640x480 with 1 Axes>"
      ]
     },
     "metadata": {},
     "output_type": "display_data"
    }
   ],
   "source": [
    "# TensorFlow 2.x compatible version\n",
    "import tensorflow as tf\n",
    "from tensorflow.keras import layers, models\n",
    "import matplotlib.pyplot as plt\n",
    "\n",
    "# --- Step 1: Load MNIST ---\n",
    "mnist = tf.keras.datasets.mnist.load_data()\n",
    "(x_train, y_train), (x_test, y_test) = mnist\n",
    "\n",
    "# Normalize and flatten\n",
    "x_train = x_train.reshape(-1, 784).astype(\"float32\") / 255.0\n",
    "x_test = x_test.reshape(-1, 784).astype(\"float32\") / 255.0\n",
    "\n",
    "# One-hot encode labels\n",
    "y_train = tf.keras.utils.to_categorical(y_train, 10)\n",
    "y_test = tf.keras.utils.to_categorical(y_test, 10)\n",
    "\n",
    "# --- Step 2: Parameters ---\n",
    "learning_rate = 0.01\n",
    "num_steps = 500\n",
    "batch_size = 100\n",
    "display_step = 5\n",
    "\n",
    "# --- Step 3: Build Model ---\n",
    "model = models.Sequential([\n",
    "    layers.Dense(256, activation='relu', input_shape=(784,)),\n",
    "    layers.Dense(256, activation='relu'),\n",
    "    layers.Dense(10)  # logits (no softmax yet)\n",
    "])\n",
    "\n",
    "# --- Step 4: Define loss, optimizer, metrics ---\n",
    "loss_fn = tf.keras.losses.CategoricalCrossentropy(from_logits=True)\n",
    "optimizer = tf.keras.optimizers.Adam(learning_rate=learning_rate)\n",
    "model.compile(optimizer=optimizer,\n",
    "              loss=loss_fn,\n",
    "              metrics=['accuracy'])\n",
    "\n",
    "# --- Step 5: Train with manual tracking (like original code) ---\n",
    "train_loss = []\n",
    "train_acc = []\n",
    "test_loss = []\n",
    "test_acc = []\n",
    "\n",
    "# Use tf.data for efficient batching\n",
    "train_dataset = tf.data.Dataset.from_tensor_slices((x_train, y_train)).shuffle(10000).batch(batch_size)\n",
    "test_dataset = tf.data.Dataset.from_tensor_slices((x_test, y_test)).batch(batch_size)\n",
    "\n",
    "for step, (batch_x, batch_y) in enumerate(train_dataset.take(num_steps), start=1):\n",
    "    metrics = model.train_on_batch(batch_x, batch_y)\n",
    "\n",
    "    if step % display_step == 0:\n",
    "        loss, acc = metrics\n",
    "        print(f\"Step {step}, Minibatch Loss = {loss:.4f}, Training Accuracy = {acc:.3f}\")\n",
    "        train_loss.append(loss)\n",
    "        train_acc.append(acc)\n",
    "\n",
    "        # Evaluate on a small test batch\n",
    "        test_batch = next(iter(test_dataset))\n",
    "        t_loss, t_acc = model.test_on_batch(*test_batch)\n",
    "        test_loss.append(t_loss)\n",
    "        test_acc.append(t_acc)\n",
    "\n",
    "print(\"\\nOptimization Finished!\")\n",
    "\n",
    "# --- Step 6: Final evaluation ---\n",
    "test_loss_final, test_acc_final = model.evaluate(x_test, y_test, verbose=0)\n",
    "print(f\"Final Testing Accuracy: {test_acc_final:.4f}\")\n",
    "\n",
    "# --- Step 7: Plot results ---\n",
    "eval_indices = range(0, num_steps, display_step)\n",
    "\n",
    "# Plot loss\n",
    "plt.plot(eval_indices, train_loss, 'k-')\n",
    "plt.title('Softmax Loss per Generation')\n",
    "plt.xlabel('Generation')\n",
    "plt.ylabel('Softmax Loss')\n",
    "plt.show()\n",
    "\n",
    "# Plot accuracy\n",
    "plt.plot(eval_indices, train_acc, 'k-', label='Train Set Accuracy')\n",
    "plt.plot(eval_indices, test_acc, 'r--', label='Test Set Accuracy')\n",
    "plt.title('Train and Test Accuracy')\n",
    "plt.xlabel('Generation')\n",
    "plt.ylabel('Accuracy')\n",
    "plt.legend(loc='lower right')\n",
    "plt.show()\n"
   ]
  }
 ],
 "metadata": {
  "colab": {
   "provenance": []
  },
  "kernelspec": {
   "display_name": "venv_day11",
   "language": "python",
   "name": "python3"
  },
  "language_info": {
   "codemirror_mode": {
    "name": "ipython",
    "version": 3
   },
   "file_extension": ".py",
   "mimetype": "text/x-python",
   "name": "python",
   "nbconvert_exporter": "python",
   "pygments_lexer": "ipython3",
   "version": "3.7.5"
  }
 },
 "nbformat": 4,
 "nbformat_minor": 1
}
